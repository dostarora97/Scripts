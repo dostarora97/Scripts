{
  "nbformat": 4,
  "nbformat_minor": 0,
  "metadata": {
    "colab": {
      "name": "File-Upload Sandbox.ipynb",
      "provenance": []
    },
    "kernelspec": {
      "name": "python3",
      "display_name": "Python 3"
    }
  },
  "cells": [
    {
      "cell_type": "code",
      "metadata": {
        "id": "FQHHghnRCC5g",
        "colab_type": "code",
        "colab": {}
      },
      "source": [
        "! wget https://f5.file-upload.download:183/d/rixlywpbnlgpv7w7b6yiwacwzxpqhqtrzaonnv33m5lymgosims6niylmpdfoj64mai7o2mg/Morgan.zip"
      ],
      "execution_count": 0,
      "outputs": []
    },
    {
      "cell_type": "code",
      "metadata": {
        "id": "5GhLxy9uC7l4",
        "colab_type": "code",
        "colab": {}
      },
      "source": [
        "!mkdir Morgan"
      ],
      "execution_count": 0,
      "outputs": []
    },
    {
      "cell_type": "code",
      "metadata": {
        "id": "z99qsVTrCVQl",
        "colab_type": "code",
        "colab": {}
      },
      "source": [
        "!unzip Morgan.zip -d Morgan"
      ],
      "execution_count": 0,
      "outputs": []
    },
    {
      "cell_type": "code",
      "metadata": {
        "id": "3ctI7etCG9jZ",
        "colab_type": "code",
        "colab": {}
      },
      "source": [
        "from google.colab.patches import cv2_imshow\n",
        "import cv2\n",
        "from pathlib import Path\n",
        "from google.colab import files"
      ],
      "execution_count": 0,
      "outputs": []
    },
    {
      "cell_type": "code",
      "metadata": {
        "id": "Hh98juZFHHjX",
        "colab_type": "code",
        "colab": {}
      },
      "source": [
        "for i in Path('Morgan').glob(\"**/*\"):\n",
        "  if i.is_file():\n",
        "    print(\"Downloading: \", i)\n",
        "    img = cv2.imread(str(i), cv2.IMREAD_UNCHANGED)\n",
        "    cv2_imshow(img)\n",
        "    # files.download(i)"
      ],
      "execution_count": 0,
      "outputs": []
    }
  ]
}