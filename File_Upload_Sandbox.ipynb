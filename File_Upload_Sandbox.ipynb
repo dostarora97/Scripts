{
  "nbformat": 4,
  "nbformat_minor": 0,
  "metadata": {
    "colab": {
      "name": "File-Upload Sandbox.ipynb",
      "provenance": []
    },
    "kernelspec": {
      "name": "python3",
      "display_name": "Python 3"
    }
  },
  "cells": [
    {
      "cell_type": "code",
      "metadata": {
        "id": "FQHHghnRCC5g",
        "colab_type": "code",
        "colab": {}
      },
      "source": [
        "! wget https://f5.file-upload.download:183/d/rixlywpbnlgpv7w7b6yiwacwzxpqhqtrzaonnv33m5lymgosims6niylmpdfoj64mai7o2mg/Morgan.zip"
      ],
      "execution_count": 0,
      "outputs": []
    },
    {
      "cell_type": "code",
      "metadata": {
        "id": "5GhLxy9uC7l4",
        "colab_type": "code",
        "colab": {}
      },
      "source": [
        "!mkdir Morgan"
      ],
      "execution_count": 0,
      "outputs": []
    },
    {
      "cell_type": "code",
      "metadata": {
        "id": "z99qsVTrCVQl",
        "colab_type": "code",
        "colab": {}
      },
      "source": [
        "!unzip Morgan.zip -d Morgan"
      ],
      "execution_count": 0,
      "outputs": []
    },
    {
      "cell_type": "code",
      "metadata": {
        "id": "tBGRrOPgDEvQ",
        "colab_type": "code",
        "colab": {}
      },
      "source": [
        "from pathlib import Path\n",
        "from google.colab import files\n",
        "\n",
        "\n",
        "for i in Path('Morgan').glob(\"**/*\"):\n",
        "  if i.is_file():\n",
        "    files.download(i)"
      ],
      "execution_count": 0,
      "outputs": []
    }
  ]
}