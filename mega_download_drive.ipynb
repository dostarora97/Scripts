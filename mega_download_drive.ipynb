{
  "nbformat": 4,
  "nbformat_minor": 0,
  "metadata": {
    "colab": {
      "name": "mega_download_drive.ipynb",
      "provenance": [],
      "collapsed_sections": []
    },
    "kernelspec": {
      "name": "python3",
      "display_name": "Python 3"
    }
  },
  "cells": [
    {
      "cell_type": "code",
      "metadata": {
        "id": "xSgFCfYvhnRE",
        "colab_type": "code",
        "colab": {}
      },
      "source": [
        "#Check colab distro info\n",
        "!lsb_release -a"
      ],
      "execution_count": 0,
      "outputs": []
    },
    {
      "cell_type": "code",
      "metadata": {
        "id": "0R-GW4T3hbZn",
        "colab_type": "code",
        "colab": {}
      },
      "source": [
        "#Download MegaCmd for Ubuntu 18.04\n",
        "!mkdir megacmd\n",
        "%cd megacmd\n",
        "!wget https://mega.nz/linux/MEGAsync/xUbuntu_18.04/amd64/megacmd-xUbuntu_18.04_amd64.deb"
      ],
      "execution_count": 0,
      "outputs": []
    },
    {
      "cell_type": "code",
      "metadata": {
        "id": "urL30IhAhwZM",
        "colab_type": "code",
        "colab": {}
      },
      "source": [
        "#Try installing megacmd\n",
        "#Will fail 1st time\n",
        "#Use this to capture missing packages\n",
        "!sudo dpkg -i megacmd-xUbuntu_18.04_amd64.deb"
      ],
      "execution_count": 0,
      "outputs": []
    },
    {
      "cell_type": "code",
      "metadata": {
        "id": "NAiltOOvh45w",
        "colab_type": "code",
        "colab": {}
      },
      "source": [
        "#Complete missing package requirements\n",
        "!sudo apt-get install -f"
      ],
      "execution_count": 0,
      "outputs": []
    },
    {
      "cell_type": "code",
      "metadata": {
        "id": "2-duGvzLh-K1",
        "colab_type": "code",
        "colab": {}
      },
      "source": [
        "#Retry installing\n",
        "!sudo dpkg -i megacmd-xUbuntu_18.04_amd64.deb"
      ],
      "execution_count": 0,
      "outputs": []
    },
    {
      "cell_type": "code",
      "metadata": {
        "id": "SDm0GcibiD_7",
        "colab_type": "code",
        "colab": {}
      },
      "source": [
        "%cd .."
      ],
      "execution_count": 0,
      "outputs": []
    },
    {
      "cell_type": "code",
      "metadata": {
        "id": "Q2zgaB0ricb9",
        "colab_type": "code",
        "colab": {}
      },
      "source": [
        "#Mount Drive to colab\n",
        "from google.colab import drive\n",
        "drive.mount('/content/drive')\n",
        "%cd drive"
      ],
      "execution_count": 0,
      "outputs": []
    },
    {
      "cell_type": "code",
      "metadata": {
        "id": "8GrgkbwSwb3G",
        "colab_type": "code",
        "colab": {}
      },
      "source": [
        "#Make new downloads folder\n",
        "%cd \"My Drive\"\n",
        "!mkdir script_downloads\n",
        "%cd script_downloads/\n",
        "!mkdir MEGA/\n",
        "%cd MEGA\n",
        "!mkdir downloads\n",
        "%cd downloads\n",
        "# !mkdir \"./script_downloads/MEGA/download\"\n",
        "# %cd script_downloads/MEGA/download"
      ],
      "execution_count": 0,
      "outputs": []
    },
    {
      "cell_type": "code",
      "metadata": {
        "id": "jQbuX_cvnvuy",
        "colab_type": "code",
        "colab": {}
      },
      "source": [
        "#Download the file to folder\n",
        "!mega-get \"https://mega.nz/file/YHo12BLC#0ytE7_baYV_EBJ0dVZmFiqjoiw4w_qKBD8RezGcu_Cw\""
      ],
      "execution_count": 0,
      "outputs": []
    }
  ]
}