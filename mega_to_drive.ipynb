{
  "cells": [
    {
      "cell_type": "code",
      "execution_count": null,
      "metadata": {
        "colab": {},
        "colab_type": "code",
        "id": "DZjiUVLqDZiL"
      },
      "outputs": [],
      "source": [
        "# This Script will Help you to download content from MEGA into your Google Drive.\n",
        "\n",
        "### READ THIS ###\n",
        "# Recommended execution of this script is as follows :\n",
        "#   1. CLEAR-ALL-OUPUT : In the MENU BAR -> Click \"Edit\" Button -> Click \"Clear All Ouputs\" Button\n",
        "#   2. RUN_ALL : In the MENU BAR -> Click \"Runtime\" Button -> Click \"Run ALL\" Button\n",
        "#   3. Follow On-Screen Instructions"
      ]
    },
    {
      "cell_type": "code",
      "execution_count": null,
      "metadata": {
        "colab": {},
        "colab_type": "code",
        "id": "cJuHlKfDDyC2"
      },
      "outputs": [],
      "source": [
        "mega_url = input(\"Enter MEGA URL : \")"
      ]
    },
    {
      "cell_type": "code",
      "execution_count": null,
      "metadata": {
        "colab": {},
        "colab_type": "code",
        "id": "tfnUVnENE84f"
      },
      "outputs": [],
      "source": [
        "# Provide Google Drive Access\n",
        "\n",
        "### READ THIS ###\n",
        "# This Script needs access to your Google Drive to download the file.\n",
        "# To provide the Access, follow these instructions :\n",
        "#   1. Click on the following LINK below (in the ouput of next cell)\n",
        "#   2. Choose your Google Account to which you want to provide access to.\n",
        "#   3. On the Next Page, Click on \"Allow\" button to provide the Access.\n",
        "#   4. After that, you will get a UNIQUE CODE on the next page\n",
        "#   5. COPY that and PASTE it in the followng INPUT BOX. Press ENTER\n",
        "# This Access is ONLY TEMPORARY (only for few Hours)."
      ]
    },
    {
      "cell_type": "code",
      "execution_count": null,
      "metadata": {
        "colab": {},
        "colab_type": "code",
        "id": "Lwbg8HllGYHE"
      },
      "outputs": [],
      "source": [
        "# Mount Drive to Colaboratory to gain access in this Script\n",
        "from google.colab import drive\n",
        "drive.mount('/content/drive', force_remount=True)"
      ]
    },
    {
      "cell_type": "code",
      "execution_count": null,
      "metadata": {
        "colab": {},
        "colab_type": "code",
        "id": "xSgFCfYvhnRE"
      },
      "outputs": [],
      "source": [
        "# Check Google Colboratory Distro Info\n",
        "import subprocess\n",
        "release_output = subprocess.run([\"lsb_release\", \"--release\"], stdout=subprocess.PIPE).stdout.decode('utf-8')\n",
        "ubuntu_release_version = release_output.split()[1]\n",
        "print(\"Distro : Release Information : \", ubuntu_release_version)\n",
        "\n",
        "url_format = \"https://mega.nz/linux/MEGAsync/xUbuntu_{release}/amd64/megacmd-xUbuntu_{release}_amd64.deb\"\n",
        "url = url_format.format(release=ubuntu_release_version)\n",
        "print(\"MEGACMD: Download URL : \", url)"
      ]
    },
    {
      "cell_type": "code",
      "execution_count": null,
      "metadata": {
        "colab": {},
        "colab_type": "code",
        "id": "0R-GW4T3hbZn"
      },
      "outputs": [],
      "source": [
        "# Install MEGACMD\n",
        "\n",
        "# Make a Download Directory for  MEGACMD\n",
        "!mkdir megacmd\n",
        "%cd megacmd\n",
        "\n",
        "# Download MEGACMD\n",
        "!wget {url}\n",
        "\n",
        "# Try installing MEGACMD\n",
        "# This will fail on first attempt, because of some missing packages\n",
        "# Information about these packages will be captured autmatically\n",
        "!sudo dpkg -i megacmd-xUbuntu_20.04_amd64.deb\n",
        "\n",
        "# Complete Requiremnets of Missing Packages\n",
        "!sudo apt-get install -f\n",
        "\n",
        "# Retry Installing MEGACMD\n",
        "!sudo dpkg -i megacmd-xUbuntu_20.04_amd64.deb\n",
        "\n",
        "# Go back to Previous Directory\n",
        "%cd .."
      ]
    },
    {
      "cell_type": "code",
      "execution_count": null,
      "metadata": {
        "colab": {},
        "colab_type": "code",
        "id": "8GrgkbwSwb3G"
      },
      "outputs": [],
      "source": [
        "# Make new Downloads folder in Drive\n",
        "%cd \"drive/My Drive\"\n",
        "!mkdir -p Script_Downloads/MEGA/Downloads\n",
        "%cd Script_Downloads/MEGA/Downloads"
      ]
    },
    {
      "cell_type": "code",
      "execution_count": null,
      "metadata": {
        "colab": {},
        "colab_type": "code",
        "id": "Ergd7tT0DWM9"
      },
      "outputs": [],
      "source": [
        "# Start File Download\n",
        "\n",
        "### READ THIS ###\n",
        "# Your content will be downloaded in your Drive at location : \"Script_Downloads/MEGA/Downloads\"\n",
        "# Keep a check on Download : \n",
        "#   After the tranfer has been completed 100%\n",
        "#   If the the Cell Execution does not stop automatically, then :\n",
        "#     Interrupt the Execution of this cell by DOUBLE-CLICKING the SPINNING BUTTON on LEFT\n",
        "\n",
        "print(\"Downloading Content from URL : \", mega_url)\n",
        "!mega-get {mega_url}"
      ]
    },
    {
      "cell_type": "code",
      "execution_count": null,
      "metadata": {},
      "outputs": [],
      "source": [
        "!pip install browsepy pyngrok"
      ]
    },
    {
      "cell_type": "code",
      "execution_count": null,
      "metadata": {},
      "outputs": [],
      "source": [
        "import getpass\n",
        "from browsepy import app\n",
        "from pyngrok import ngrok, conf\n",
        "\n",
        "conf.get_default().auth_token = getpass.getpass(\"Enter Ngrok Authtoken (https://dashboard.ngrok.com/get-started/your-authtoken): \")\n",
        "conf.get_default().region = \"in\"\n",
        "public_url = ngrok.connect(5000)\n",
        "\n",
        "print(\"Navigate to : {}\".format(public_url))\n",
        "print(\"Choose the media to Stream.\")\n",
        "print(\"DON'T USE THIS FOR DOWNLOADING!! THE FILE ALREADY EXISTS ON DRIVE - DOWNLOAD FROM THERE\")\n",
        "print(\"To stream directly in VLC: Copy the link of the media file -> Open VLC -> CTRL+N -> Paste the link -> Stream\")\n",
        "\n",
        "try:\n",
        "    # Block until CTRL-C or some other terminating event\n",
        "    app.run()\n",
        "except KeyboardInterrupt:\n",
        "    ngrok.kill()\n",
        "    print(\"Shutting down ngrok.\")\n",
        "\n",
        "print(\"Exiting\")\n",
        "ngrok.kill()"
      ]
    }
  ],
  "metadata": {
    "colab": {
      "collapsed_sections": [],
      "name": "mega_to_drive.ipynb",
      "provenance": []
    },
    "kernelspec": {
      "display_name": "Python 3",
      "name": "python3"
    }
  },
  "nbformat": 4,
  "nbformat_minor": 0
}
