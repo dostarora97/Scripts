{
  "nbformat": 4,
  "nbformat_minor": 0,
  "metadata": {
    "colab": {
      "name": "mega_to_drive.ipynb",
      "provenance": [],
      "collapsed_sections": []
    },
    "kernelspec": {
      "name": "python3",
      "display_name": "Python 3"
    }
  },
  "cells": [
    {
      "cell_type": "code",
      "metadata": {
        "id": "DZjiUVLqDZiL",
        "colab_type": "code",
        "colab": {}
      },
      "source": [
        "# This Script will Help you to download content from MEGA into your Google Drive.\n",
        "\n",
        "### READ THIS ###\n",
        "# Recommended execution of this script is as follows :\n",
        "#   1. CLEAR-ALL-OUPUT : In the MENU BAR -> Click \"Edit\" Button -> Click \"Clear All Ouputs\" Button\n",
        "#   2. RUN_ALL : In the MENU BAR -> Click \"Runtime\" Button -> Click \"Run ALL\" Button\n",
        "#   3. Follow On-Screen Instructions"
      ],
      "execution_count": 0,
      "outputs": []
    },
    {
      "cell_type": "code",
      "metadata": {
        "id": "cJuHlKfDDyC2",
        "colab_type": "code",
        "colab": {}
      },
      "source": [
        "mega_url = input(\"Enter MEGA URL : \")"
      ],
      "execution_count": 0,
      "outputs": []
    },
    {
      "cell_type": "code",
      "metadata": {
        "id": "tfnUVnENE84f",
        "colab_type": "code",
        "colab": {}
      },
      "source": [
        "# Provide Google Drive Access\n",
        "\n",
        "### READ THIS ###\n",
        "# This Script needs access to your Google Drive to download the file.\n",
        "# To provide the Access, follow these instructions :\n",
        "#   1. Click on the following LINK below (in the ouput of next cell)\n",
        "#   2. Choose your Google Account to which you want to provide access to.\n",
        "#   3. On the Next Page, Click on \"Allow\" button to provide the Access.\n",
        "#   4. After that, you will get a UNIQUE CODE on the next page\n",
        "#   5. COPY that and PASTE it in the followng INPUT BOX. Press ENTER\n",
        "# This Access is ONLY TEMPORARY (only for few Hours)."
      ],
      "execution_count": 0,
      "outputs": []
    },
    {
      "cell_type": "code",
      "metadata": {
        "id": "Lwbg8HllGYHE",
        "colab_type": "code",
        "colab": {}
      },
      "source": [
        "# Mount Drive to Colaboratory to gain access in this Script\n",
        "from google.colab import drive\n",
        "drive.mount('/content/drive', force_remount=True)"
      ],
      "execution_count": 0,
      "outputs": []
    },
    {
      "cell_type": "code",
      "metadata": {
        "id": "xSgFCfYvhnRE",
        "colab_type": "code",
        "colab": {}
      },
      "source": [
        "# Check Google Colboratory Distro Info\n",
        "import subprocess\n",
        "release_output = subprocess.run([\"lsb_release\", \"--release\"], stdout=subprocess.PIPE).stdout.decode('utf-8')\n",
        "ubuntu_release_version = release_output.split()[1]\n",
        "print(\"Distro : Release Information : \", ubuntu_release_version)\n",
        "\n",
        "url_format = \"https://mega.nz/linux/MEGAsync/xUbuntu_{release}/amd64/megacmd-xUbuntu_{release}_amd64.deb\"\n",
        "url = url_format.format(release=ubuntu_release_version)\n",
        "print(\"MEGACMD: Download URL : \", url)"
      ],
      "execution_count": 0,
      "outputs": []
    },
    {
      "cell_type": "code",
      "metadata": {
        "id": "0R-GW4T3hbZn",
        "colab_type": "code",
        "colab": {}
      },
      "source": [
        "# Install MEGACMD\n",
        "\n",
        "# Make a Download Directory for  MEGACMD\n",
        "!mkdir megacmd\n",
        "%cd megacmd\n",
        "\n",
        "# Download MEGACMD\n",
        "!wget {url}\n",
        "\n",
        "# Try installing MEGACMD\n",
        "# This will fail on first attempt, because of some missing packages\n",
        "# Information about these packages will be captured autmatically\n",
        "!sudo dpkg -i megacmd-xUbuntu_18.04_amd64.deb\n",
        "\n",
        "# Complete Requiremnets of Missing Packages\n",
        "!sudo apt-get install -f\n",
        "\n",
        "# Retry Installing MEGACMD\n",
        "!sudo dpkg -i megacmd-xUbuntu_18.04_amd64.deb\n",
        "\n",
        "# Go back to Previous Directory\n",
        "%cd .."
      ],
      "execution_count": 0,
      "outputs": []
    },
    {
      "cell_type": "code",
      "metadata": {
        "id": "8GrgkbwSwb3G",
        "colab_type": "code",
        "colab": {}
      },
      "source": [
        "# Make new Downloads folder in Drive\n",
        "%cd \"drive/My Drive\"\n",
        "!mkdir Script_Downloads\n",
        "%cd Script_Downloads/\n",
        "!mkdir MEGA/\n",
        "%cd MEGA\n",
        "!mkdir Downloads\n",
        "%cd Downloads"
      ],
      "execution_count": 0,
      "outputs": []
    },
    {
      "cell_type": "code",
      "metadata": {
        "id": "Ergd7tT0DWM9",
        "colab_type": "code",
        "colab": {}
      },
      "source": [
        "# Start File Download\n",
        "\n",
        "### READ THIS ###\n",
        "# Your content will be downloaded in your Drive at location : \"Script_Downloads/MEGA/Downloads\"\n",
        "# Keep a check on Download : \n",
        "#   After the tranfer has been completed 100%\n",
        "#   If the the Cell Execution does not stop automatically, then :\n",
        "#     Interrupt the Execution of this cell by DOUBLE-CLICKING the SPINNING BUTTON on LEFT\n",
        "\n",
        "print(\"Downloading Content from URL : \", mega_url)\n",
        "!mega-get {mega_url}"
      ],
      "execution_count": 0,
      "outputs": []
    }
  ]
}